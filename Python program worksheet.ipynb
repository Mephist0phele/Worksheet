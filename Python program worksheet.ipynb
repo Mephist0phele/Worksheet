{
 "cells": [
  {
   "cell_type": "code",
   "execution_count": 1,
   "metadata": {},
   "outputs": [
    {
     "name": "stdout",
     "output_type": "stream",
     "text": [
      "Please Enter any Number: 78\n",
      "Sum of Natural Numbers from 1 to 78 =  3081.0\n"
     ]
    }
   ],
   "source": [
    "# Python Program to find Sum of N Natural Numbers\n",
    " \n",
    "def sum_of_n_natural_numbers(num):\n",
    "    if(num == 0):\n",
    "        return num\n",
    "    else:\n",
    "        return (num * (num + 1) / 2)\n",
    "    \n",
    "number = int(input(\"Please Enter any Number: \"))\n",
    "\n",
    "total_value = sum_of_n_natural_numbers(number)\n",
    "\n",
    "print(\"Sum of Natural Numbers from 1 to {0} =  {1}\".format(number, total_value))"
   ]
  },
  {
   "cell_type": "code",
   "execution_count": 3,
   "metadata": {},
   "outputs": [
    {
     "name": "stdout",
     "output_type": "stream",
     "text": [
      "Enter the value of a 7\n",
      "Enter the value of b 8\n",
      "And Enter the value of c9\n",
      "The Quadratic Equation is 7x**2 + 8x + 9\n",
      "First root: (-0.5714285714285714+0.9793792286287205j)\n",
      "Second root: (-0.5714285714285714-0.9793792286287205j)\n"
     ]
    }
   ],
   "source": [
    "import cmath\n",
    "a = int(input(\"Enter the value of a \"))\n",
    "b = int(input(\"Enter the value of b \"))\n",
    "c = int(input(\"And Enter the value of c\"))\n",
    "\n",
    "print('The Quadratic Equation is ',a,'x**2 + ',b,'x + ',c,sep='')\n",
    "\n",
    "d = (b**2) - (4*a*c)\n",
    "\n",
    "r1 = (-b + cmath.sqrt(d)) / (2*a)\n",
    "r2 = (-b - cmath.sqrt(d)) / (2*a)\n",
    "\n",
    "print(\"First root:\",r1)\n",
    "print(\"Second root:\",r2)"
   ]
  },
  {
   "cell_type": "code",
   "execution_count": null,
   "metadata": {},
   "outputs": [],
   "source": []
  }
 ],
 "metadata": {
  "kernelspec": {
   "display_name": "Python 3",
   "language": "python",
   "name": "python3"
  },
  "language_info": {
   "codemirror_mode": {
    "name": "ipython",
    "version": 3
   },
   "file_extension": ".py",
   "mimetype": "text/x-python",
   "name": "python",
   "nbconvert_exporter": "python",
   "pygments_lexer": "ipython3",
   "version": "3.6.10"
  }
 },
 "nbformat": 4,
 "nbformat_minor": 4
}
